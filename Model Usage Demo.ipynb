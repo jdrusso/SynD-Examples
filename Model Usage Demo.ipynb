{
 "cells": [
  {
   "cell_type": "code",
   "execution_count": 1,
   "id": "bd6a24cc-17ca-4852-be3a-4a6ab1e2359d",
   "metadata": {},
   "outputs": [],
   "source": [
    "import numpy as np"
   ]
  },
  {
   "cell_type": "markdown",
   "id": "9cf41069-038f-47ea-b1ad-93f78964d77d",
   "metadata": {},
   "source": [
    "## Load our previously-created model\n",
    "\n",
    "The `synd` package makes it easy to share models. We'll load up the model we created in the prior example."
   ]
  },
  {
   "cell_type": "code",
   "execution_count": 2,
   "id": "4a1550aa-e782-468c-8559-994992a41fb1",
   "metadata": {},
   "outputs": [],
   "source": [
    "from synd.core import load_model"
   ]
  },
  {
   "cell_type": "code",
   "execution_count": 3,
   "id": "49332cbc-9e43-45eb-ae3f-4b7782f37ad7",
   "metadata": {},
   "outputs": [],
   "source": [
    "model = load_model('output/trp-cage.synd')"
   ]
  },
  {
   "cell_type": "markdown",
   "id": "61ed81a0-a27f-42b7-bb32-c5533cd33bbf",
   "metadata": {},
   "source": [
    "## Generate a long trajectory\n",
    "\n",
    "Why don't we generate something more impressive? Let's make a 200us trajectory."
   ]
  },
  {
   "cell_type": "code",
   "execution_count": 4,
   "id": "9dfcd1ed-edb7-4d5e-8810-410278c9d7c2",
   "metadata": {},
   "outputs": [
    {
     "name": "stdout",
     "output_type": "stream",
     "text": [
      "CPU times: user 1.87 s, sys: 0 ns, total: 1.87 s\n",
      "Wall time: 1.87 s\n"
     ]
    },
    {
     "data": {
      "text/plain": [
       "array([[1871, 1760,  726, ..., 8805, 8513, 8513]])"
      ]
     },
     "execution_count": 4,
     "metadata": {},
     "output_type": "execute_result"
    }
   ],
   "source": [
    "%%time\n",
    "\n",
    "discrete_trajectory = model.generate_trajectory(\n",
    "    initial_states=np.array([1871]),\n",
    "    n_steps=200_000\n",
    ")\n",
    "discrete_trajectory"
   ]
  },
  {
   "cell_type": "markdown",
   "id": "60d858eb-ab2f-41d5-a299-f787e61b8427",
   "metadata": {},
   "source": [
    "This ran in about 2s, so we can generate about 100us/second, or ~8.6 seconds/day."
   ]
  },
  {
   "cell_type": "code",
   "execution_count": 5,
   "id": "9155f120-8cf7-4d13-84de-e5abe8bace48",
   "metadata": {},
   "outputs": [
    {
     "name": "stdout",
     "output_type": "stream",
     "text": [
      "CPU times: user 345 ms, sys: 67.3 ms, total: 412 ms\n",
      "Wall time: 412 ms\n"
     ]
    },
    {
     "data": {
      "text/plain": [
       "(1, 200000, 272, 3)"
      ]
     },
     "execution_count": 5,
     "metadata": {},
     "output_type": "execute_result"
    }
   ],
   "source": [
    "%%time\n",
    "\n",
    "atomistic_trajectory = model.backmap(discrete_trajectory)\n",
    "atomistic_trajectory.shape"
   ]
  },
  {
   "cell_type": "markdown",
   "id": "a090443d-4c9d-419d-9210-b76248077220",
   "metadata": {},
   "source": [
    "Backmapping time is negligible."
   ]
  },
  {
   "cell_type": "markdown",
   "id": "ceeecfb5-871a-41e5-a07f-0146b2bfe50f",
   "metadata": {},
   "source": [
    "# Save MD trajectory"
   ]
  },
  {
   "cell_type": "code",
   "execution_count": 6,
   "id": "2b5117cd-1bef-43f0-ae0c-3fcb155d10d0",
   "metadata": {},
   "outputs": [],
   "source": [
    "import MDAnalysis as md\n",
    "from MDAnalysis.coordinates.memory import MemoryReader"
   ]
  },
  {
   "cell_type": "code",
   "execution_count": 7,
   "id": "5fe210a4-960d-4fbe-ab57-1a2cd8779842",
   "metadata": {},
   "outputs": [],
   "source": [
    "u = md.Universe('input/2JOF.pdb')"
   ]
  },
  {
   "cell_type": "code",
   "execution_count": 8,
   "id": "732ccff0-ed60-4dbd-b26e-f28a2d7fd354",
   "metadata": {},
   "outputs": [
    {
     "data": {
      "text/plain": [
       "<MemoryReader with 200000 frames of 272 atoms>"
      ]
     },
     "execution_count": 8,
     "metadata": {},
     "output_type": "execute_result"
    }
   ],
   "source": [
    "u.load_new(atomistic_trajectory[0], format=MemoryReader)\n",
    "u.trajectory"
   ]
  },
  {
   "cell_type": "code",
   "execution_count": 9,
   "id": "01ea1f01-df56-4683-9e67-88217ffb62c1",
   "metadata": {},
   "outputs": [],
   "source": [
    "u.select_atoms('all').write('output/generated_trajectory.xtc', frames='all')"
   ]
  },
  {
   "cell_type": "markdown",
   "id": "a8df9bbf-8fd8-45ff-a8ec-18500d698fc0",
   "metadata": {},
   "source": [
    "Now, we have an MD-like trajectory we can analyze with any tools we like!"
   ]
  }
 ],
 "metadata": {
  "kernelspec": {
   "display_name": "Python 3 (ipykernel)",
   "language": "python",
   "name": "python3"
  },
  "language_info": {
   "codemirror_mode": {
    "name": "ipython",
    "version": 3
   },
   "file_extension": ".py",
   "mimetype": "text/x-python",
   "name": "python",
   "nbconvert_exporter": "python",
   "pygments_lexer": "ipython3",
   "version": "3.10.8"
  }
 },
 "nbformat": 4,
 "nbformat_minor": 5
}
