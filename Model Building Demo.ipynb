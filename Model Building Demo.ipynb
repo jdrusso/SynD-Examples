{
 "cells": [
  {
   "cell_type": "code",
   "execution_count": 1,
   "metadata": {},
   "outputs": [],
   "source": [
    "import scipy.sparse\n",
    "import numpy as np"
   ]
  },
  {
   "cell_type": "code",
   "execution_count": 2,
   "metadata": {},
   "outputs": [],
   "source": [
    "import pickle\n",
    "import os"
   ]
  },
  {
   "cell_type": "markdown",
   "metadata": {},
   "source": [
    "## Load data from MD analysis"
   ]
  },
  {
   "cell_type": "markdown",
   "metadata": {},
   "source": [
    "Before building our SynD model, we used some Trp-cage MD data to build a Markov model. That analysis produced:\n",
    "- A 10,500 state transition matrix\n",
    "- A mapping of each state to a representative atomistic structure"
   ]
  },
  {
   "cell_type": "markdown",
   "metadata": {},
   "source": [
    "### Load transition matrix"
   ]
  },
  {
   "cell_type": "markdown",
   "metadata": {},
   "source": [
    "This 10,500-state transition matrix is our Markov model."
   ]
  },
  {
   "cell_type": "code",
   "execution_count": 3,
   "metadata": {},
   "outputs": [],
   "source": [
    "transition_matrix = scipy.sparse.load_npz('input/sparse_tmatrix.npz')"
   ]
  },
  {
   "cell_type": "code",
   "execution_count": 4,
   "metadata": {},
   "outputs": [
    {
     "data": {
      "text/plain": [
       "<10500x10500 sparse matrix of type '<class 'numpy.float64'>'\n",
       "\twith 838020 stored elements in Compressed Sparse Row format>"
      ]
     },
     "execution_count": 4,
     "metadata": {},
     "output_type": "execute_result"
    }
   ],
   "source": [
    "transition_matrix"
   ]
  },
  {
   "cell_type": "markdown",
   "metadata": {},
   "source": [
    "## Load full-coordinate structure mapping"
   ]
  },
  {
   "cell_type": "markdown",
   "metadata": {},
   "source": [
    "The \"structure map\" is simply a dictionary mapping each discrete Markov state to a full-coordinate atomistic structure.\n",
    "\n",
    "This data is for Trp-cage, which has 272 atoms."
   ]
  },
  {
   "cell_type": "code",
   "execution_count": 5,
   "metadata": {},
   "outputs": [
    {
     "data": {
      "text/plain": [
       "10500"
      ]
     },
     "execution_count": 5,
     "metadata": {},
     "output_type": "execute_result"
    }
   ],
   "source": [
    "with open('input/coord_map.pkl', 'rb') as infile:\n",
    "    full_coord_map = pickle.load(infile)\n",
    "\n",
    "len(full_coord_map)"
   ]
  },
  {
   "cell_type": "code",
   "execution_count": 6,
   "metadata": {
    "scrolled": true,
    "tags": []
   },
   "outputs": [
    {
     "data": {
      "text/plain": [
       "(272, 3)"
      ]
     },
     "execution_count": 6,
     "metadata": {},
     "output_type": "execute_result"
    }
   ],
   "source": [
    "full_coord_map[0].shape"
   ]
  },
  {
   "cell_type": "markdown",
   "metadata": {},
   "source": [
    "## Build the SynD model\n",
    "\n",
    "Now, we'll construct our SynD model, which uses the transition matrix for dynamics. This transition matrix was built at a lagtime of 1ns, so \n",
    "\n",
    "The model directly generates discrete trajectories of integer states. We'll \"backmap\" that to an atomistic MD-like trajectory by just mapping each discrete state to an atomistic structure."
   ]
  },
  {
   "cell_type": "code",
   "execution_count": 7,
   "metadata": {},
   "outputs": [],
   "source": [
    "from synd.models.discrete.markov import MarkovGenerator"
   ]
  },
  {
   "cell_type": "code",
   "execution_count": 8,
   "metadata": {},
   "outputs": [],
   "source": [
    "model = MarkovGenerator(\n",
    "    transition_matrix=transition_matrix,\n",
    "    backmapper=full_coord_map.get\n",
    ")"
   ]
  },
  {
   "cell_type": "markdown",
   "metadata": {},
   "source": [
    "Now, we can generate trajectories.\n",
    "\n",
    "We'll generate two trajectories -- one starting from the folded state (1871), and one from another random state."
   ]
  },
  {
   "cell_type": "code",
   "execution_count": 9,
   "metadata": {},
   "outputs": [
    {
     "data": {
      "text/plain": [
       "((2, 10),\n",
       " array([[1871,  648, 1255, 1282,  727, 1404, 1204, 1295,  650,  958],\n",
       "        [1337, 2323, 4912, 2156, 3747, 2156,  529,  573, 1855, 2956]]))"
      ]
     },
     "execution_count": 9,
     "metadata": {},
     "output_type": "execute_result"
    }
   ],
   "source": [
    "discrete_trajectories = model.generate_trajectory(\n",
    "    initial_states=np.array([1871, 1337]),\n",
    "    n_steps=10\n",
    ")\n",
    "\n",
    "discrete_trajectories.shape, discrete_trajectories"
   ]
  },
  {
   "cell_type": "markdown",
   "metadata": {},
   "source": [
    "Now, we can convert those discrete trajectories to atomistic trajectories."
   ]
  },
  {
   "cell_type": "code",
   "execution_count": 10,
   "metadata": {},
   "outputs": [
    {
     "data": {
      "text/plain": [
       "(2, 10, 272, 3)"
      ]
     },
     "execution_count": 10,
     "metadata": {},
     "output_type": "execute_result"
    }
   ],
   "source": [
    "atomistic_trajectories = model.backmap(discrete_trajectories)\n",
    "atomistic_trajectories.shape"
   ]
  },
  {
   "cell_type": "markdown",
   "metadata": {},
   "source": [
    "Voila! Two 10ns atomistic trajectories, saved at 1ns timesteps."
   ]
  },
  {
   "cell_type": "markdown",
   "metadata": {},
   "source": [
    "## Saving our model\n",
    "\n",
    "Now we save our model for later use. Note that the model, and everything we need to generate as many trajectories as we like, is a self-contained 45MB file."
   ]
  },
  {
   "cell_type": "code",
   "execution_count": 11,
   "metadata": {},
   "outputs": [],
   "source": [
    "model.save('output/trp-cage.synd')"
   ]
  },
  {
   "cell_type": "code",
   "execution_count": 12,
   "metadata": {},
   "outputs": [
    {
     "name": "stdout",
     "output_type": "stream",
     "text": [
      "Saved model is 45.0 MB\n"
     ]
    }
   ],
   "source": [
    "size = os.stat('output/trp-cage.synd').st_size * 1e-6\n",
    "print(f\"Saved model is {size:.1f} MB\")"
   ]
  }
 ],
 "metadata": {
  "kernelspec": {
   "display_name": "Python 3 (ipykernel)",
   "language": "python",
   "name": "python3"
  },
  "language_info": {
   "codemirror_mode": {
    "name": "ipython",
    "version": 3
   },
   "file_extension": ".py",
   "mimetype": "text/x-python",
   "name": "python",
   "nbconvert_exporter": "python",
   "pygments_lexer": "ipython3",
   "version": "3.10.8"
  }
 },
 "nbformat": 4,
 "nbformat_minor": 4
}
